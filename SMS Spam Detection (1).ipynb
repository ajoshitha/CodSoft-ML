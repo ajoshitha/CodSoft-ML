{
 "cells": [
  {
   "cell_type": "markdown",
   "id": "24309b12",
   "metadata": {},
   "source": [
    "# **SMS Spam Detection**"
   ]
  },
  {
   "cell_type": "markdown",
   "id": "39a1a797",
   "metadata": {},
   "source": [
    "# 1. Importing Libraries"
   ]
  },
  {
   "cell_type": "code",
   "execution_count": 15,
   "id": "521a5a31",
   "metadata": {},
   "outputs": [],
   "source": [
    "import numpy as np\n",
    "import pandas as pd\n",
    "import matplotlib.pyplot as plt\n",
    "import seaborn as sns\n",
    "\n",
    "from sklearn.model_selection import train_test_split, cross_val_score\n",
    "from sklearn.preprocessing import LabelEncoder\n",
    "from sklearn.feature_extraction.text import TfidfVectorizer\n",
    "from sklearn.linear_model import LogisticRegression \n",
    "from sklearn.naive_bayes import MultinomialNB\n",
    "from sklearn.svm import SVC\n",
    "from sklearn.metrics import accuracy_score, confusion_matrix, classification_report"
   ]
  },
  {
   "cell_type": "markdown",
   "id": "2dfa3313",
   "metadata": {},
   "source": [
    "# 2. Loading the Dataset"
   ]
  },
  {
   "cell_type": "code",
   "execution_count": 16,
   "id": "4b6896f6",
   "metadata": {},
   "outputs": [],
   "source": [
    "dataset = pd.read_csv('spam.csv',encoding='latin-1', engine='python', usecols=['v1','v2']) \n",
    "dataset.columns = ['Label','Message']"
   ]
  },
  {
   "cell_type": "markdown",
   "id": "484b14fb",
   "metadata": {},
   "source": [
    "# 3. Exploring the Dataset"
   ]
  },
  {
   "cell_type": "code",
   "execution_count": 17,
   "id": "92a4c213",
   "metadata": {},
   "outputs": [
    {
     "name": "stdout",
     "output_type": "stream",
     "text": [
      "  Label                                            Message\n",
      "0   ham  Go until jurong point, crazy.. Available only ...\n",
      "1   ham                      Ok lar... Joking wif u oni...\n",
      "2  spam  Free entry in 2 a wkly comp to win FA Cup fina...\n",
      "3   ham  U dun say so early hor... U c already then say...\n",
      "4   ham  Nah I don't think he goes to usf, he lives aro...\n"
     ]
    }
   ],
   "source": [
    "print(dataset.head())"
   ]
  },
  {
   "cell_type": "code",
   "execution_count": 18,
   "id": "de26a8e6",
   "metadata": {
    "scrolled": true
   },
   "outputs": [
    {
     "name": "stdout",
     "output_type": "stream",
     "text": [
      "     Label                                            Message\n",
      "5567  spam  This is the 2nd time we have tried 2 contact u...\n",
      "5568   ham              Will Ì_ b going to esplanade fr home?\n",
      "5569   ham  Pity, * was in mood for that. So...any other s...\n",
      "5570   ham  The guy did some bitching but I acted like i'd...\n",
      "5571   ham                         Rofl. Its true to its name\n"
     ]
    }
   ],
   "source": [
    "print(dataset.tail())"
   ]
  },
  {
   "cell_type": "code",
   "execution_count": 19,
   "id": "3187b557",
   "metadata": {},
   "outputs": [
    {
     "name": "stdout",
     "output_type": "stream",
     "text": [
      "Label      5572\n",
      "Message    5572\n",
      "dtype: int64\n"
     ]
    }
   ],
   "source": [
    "print(dataset.count())"
   ]
  },
  {
   "cell_type": "code",
   "execution_count": 20,
   "id": "2e8d53c7",
   "metadata": {},
   "outputs": [
    {
     "name": "stdout",
     "output_type": "stream",
     "text": [
      "(5572, 2)\n"
     ]
    }
   ],
   "source": [
    "print(dataset.shape)"
   ]
  },
  {
   "cell_type": "code",
   "execution_count": 21,
   "id": "212419e8",
   "metadata": {},
   "outputs": [
    {
     "name": "stdout",
     "output_type": "stream",
     "text": [
      "11144\n"
     ]
    }
   ],
   "source": [
    "print(dataset.size)"
   ]
  },
  {
   "cell_type": "code",
   "execution_count": 22,
   "id": "d44a7b40",
   "metadata": {},
   "outputs": [
    {
     "name": "stdout",
     "output_type": "stream",
     "text": [
      "<class 'pandas.core.frame.DataFrame'>\n",
      "RangeIndex: 5572 entries, 0 to 5571\n",
      "Data columns (total 2 columns):\n",
      " #   Column   Non-Null Count  Dtype \n",
      "---  ------   --------------  ----- \n",
      " 0   Label    5572 non-null   object\n",
      " 1   Message  5572 non-null   object\n",
      "dtypes: object(2)\n",
      "memory usage: 87.2+ KB\n",
      "None\n"
     ]
    }
   ],
   "source": [
    "print(dataset.info())"
   ]
  },
  {
   "cell_type": "code",
   "execution_count": 23,
   "id": "6fd12555",
   "metadata": {},
   "outputs": [
    {
     "name": "stdout",
     "output_type": "stream",
     "text": [
      "       Label                 Message\n",
      "count   5572                    5572\n",
      "unique     2                    5169\n",
      "top      ham  Sorry, I'll call later\n",
      "freq    4825                      30\n"
     ]
    }
   ],
   "source": [
    "print(dataset.describe())"
   ]
  },
  {
   "cell_type": "code",
   "execution_count": 24,
   "id": "e0aa0b11",
   "metadata": {},
   "outputs": [
    {
     "name": "stdout",
     "output_type": "stream",
     "text": [
      "Label      object\n",
      "Message    object\n",
      "dtype: object\n"
     ]
    }
   ],
   "source": [
    "print(dataset.dtypes)"
   ]
  },
  {
   "cell_type": "code",
   "execution_count": 25,
   "id": "7d5137b1",
   "metadata": {},
   "outputs": [
    {
     "name": "stdout",
     "output_type": "stream",
     "text": [
      "Label      0\n",
      "Message    0\n",
      "dtype: int64\n"
     ]
    }
   ],
   "source": [
    "print(dataset.isnull().sum())"
   ]
  },
  {
   "cell_type": "code",
   "execution_count": 26,
   "id": "70dbd5a5",
   "metadata": {},
   "outputs": [
    {
     "name": "stdout",
     "output_type": "stream",
     "text": [
      "['ham' 'spam']\n"
     ]
    }
   ],
   "source": [
    "print(dataset.Label.unique())"
   ]
  },
  {
   "cell_type": "code",
   "execution_count": 27,
   "id": "d5da4b11",
   "metadata": {},
   "outputs": [
    {
     "name": "stdout",
     "output_type": "stream",
     "text": [
      "Label\n",
      "ham     4825\n",
      "spam     747\n",
      "Name: count, dtype: int64\n"
     ]
    }
   ],
   "source": [
    "print(dataset.Label.value_counts())"
   ]
  },
  {
   "cell_type": "markdown",
   "id": "9a2a4fe3",
   "metadata": {},
   "source": [
    "# 4. Removing Duplicated Rows"
   ]
  },
  {
   "cell_type": "code",
   "execution_count": 28,
   "id": "efea74a0",
   "metadata": {},
   "outputs": [
    {
     "name": "stdout",
     "output_type": "stream",
     "text": [
      "False    5169\n",
      "True      403\n",
      "Name: count, dtype: int64\n"
     ]
    }
   ],
   "source": [
    "print(dataset.duplicated().value_counts())"
   ]
  },
  {
   "cell_type": "code",
   "execution_count": 15,
   "id": "9aa82af1",
   "metadata": {},
   "outputs": [
    {
     "data": {
      "image/png": "[encoded data removed]",
      "text/plain": [
       "<Figure size 640x480 with 1 Axes>"
      ]
     },
     "metadata": {},
     "output_type": "display_data"
    }
   ],
   "source": [
    "duplicates = dataset.duplicated()\n",
    "duplicate_counts = duplicates.value_counts()\n",
    "sns.barplot(x=duplicate_counts.index, y=duplicate_counts.values)\n",
    "plt.title('Count of Duplicate Rows (True vs False)')\n",
    "plt.xlabel('Duplicates (True/False)')\n",
    "plt.ylabel('Count')\n",
    "plt.show()"
   ]
  },
  {
   "cell_type": "code",
   "execution_count": 29,
   "id": "a033fb1e",
   "metadata": {},
   "outputs": [],
   "source": [
    "dataset.drop_duplicates(inplace=True)"
   ]
  },
  {
   "cell_type": "markdown",
   "id": "e58cb80e",
   "metadata": {},
   "source": [
    "# 5. Data Distribution Visualization"
   ]
  },
  {
   "cell_type": "code",
   "execution_count": 30,
   "id": "1f1bbe92",
   "metadata": {},
   "outputs": [
    {
     "data": {
      "text/plain": [
       "<seaborn.axisgrid.FacetGrid at 0x1b5b784cfd0>"
      ]
     },
     "execution_count": 30,
     "metadata": {},
     "output_type": "execute_result"
    },
    {
     "data": {
      "text/plain": [
       "<Figure size 640x480 with 0 Axes>"
      ]
     },
     "metadata": {},
     "output_type": "display_data"
    },
    {
     "data": {
      "image/png": "[encoded data removed]",
      "text/plain": [
       "<Figure size 500x500 with 1 Axes>"
      ]
     },
     "metadata": {},
     "output_type": "display_data"
    }
   ],
   "source": [
    "import warnings\n",
    "warnings.filterwarnings(\"ignore\", category=UserWarning)\n",
    "import matplotlib.pyplot as plt\n",
    "plt.tight_layout()\n",
    "sns.displot(dataset['Label'], kde=True,color='blue')"
   ]
  },
  {
   "cell_type": "code",
   "execution_count": 31,
   "id": "9c5b2bf1",
   "metadata": {},
   "outputs": [
    {
     "data": {
      "text/plain": [
       "<Axes: xlabel='Label', ylabel='count'>"
      ]
     },
     "execution_count": 31,
     "metadata": {},
     "output_type": "execute_result"
    },
    {
     "data": {
      "image/png": "[encoded data removed]",
      "text/plain": [
       "<Figure size 640x480 with 1 Axes>"
      ]
     },
     "metadata": {},
     "output_type": "display_data"
    }
   ],
   "source": [
    "sns.countplot(x='Label', data=dataset, color='orange')"
   ]
  },
  {
   "cell_type": "code",
   "execution_count": 32,
   "id": "ea2f4d8f",
   "metadata": {},
   "outputs": [
    {
     "data": {
      "image/png": "[encoded data removed]",
      "text/plain": [
       "<Figure size 640x480 with 1 Axes>"
      ]
     },
     "metadata": {},
     "output_type": "display_data"
    }
   ],
   "source": [
    "label = dataset. Label.value_counts()\n",
    "plt.pie(label.values,labels =label.index, autopct='%1.2f%%')\n",
    "plt.legend(loc='upper left', title='Weather', bbox_to_anchor=(1,1))\n",
    "plt.title(\"Label Graph\")\n",
    "plt.axis('equal')\n",
    "plt.show()"
   ]
  },
  {
   "cell_type": "markdown",
   "id": "3201f680",
   "metadata": {},
   "source": [
    "# 6. Encoding Labels"
   ]
  },
  {
   "cell_type": "code",
   "execution_count": 33,
   "id": "1f62823c",
   "metadata": {},
   "outputs": [],
   "source": [
    "encoder = LabelEncoder() \n",
    "dataset['Label'] = encoder.fit_transform(dataset['Label'])"
   ]
  },
  {
   "cell_type": "code",
   "execution_count": 34,
   "id": "a300ba80",
   "metadata": {},
   "outputs": [
    {
     "name": "stdout",
     "output_type": "stream",
     "text": [
      "   Label                                            Message\n",
      "0      0  Go until jurong point, crazy.. Available only ...\n",
      "1      0                      Ok lar... Joking wif u oni...\n",
      "2      1  Free entry in 2 a wkly comp to win FA Cup fina...\n",
      "3      0  U dun say so early hor... U c already then say...\n",
      "4      0  Nah I don't think he goes to usf, he lives aro...\n"
     ]
    }
   ],
   "source": [
    "print(dataset.head())"
   ]
  },
  {
   "cell_type": "markdown",
   "id": "9b858701",
   "metadata": {},
   "source": [
    "# 7. Text Vectorization"
   ]
  },
  {
   "cell_type": "code",
   "execution_count": 35,
   "id": "e0c66e92",
   "metadata": {},
   "outputs": [],
   "source": [
    "vectorize = TfidfVectorizer(stop_words='english') \n",
    "X = vectorize.fit_transform(dataset['Message']).toarray() \n",
    "Y = dataset['Label']"
   ]
  },
  {
   "cell_type": "markdown",
   "id": "c749011a",
   "metadata": {},
   "source": [
    "# 8. Splitting the Data"
   ]
  },
  {
   "cell_type": "code",
   "execution_count": 36,
   "id": "d5906aff",
   "metadata": {},
   "outputs": [],
   "source": [
    "X_train, X_test,Y_train,Y_test = train_test_split(X,Y,test_size=0.2,random_state=0,shuffle=True)"
   ]
  },
  {
   "cell_type": "markdown",
   "id": "e2940830",
   "metadata": {},
   "source": [
    "# Naive_Bayes Classifier"
   ]
  },
  {
   "cell_type": "code",
   "execution_count": 37,
   "id": "9b1f6f82",
   "metadata": {},
   "outputs": [
    {
     "name": "stdout",
     "output_type": "stream",
     "text": [
      "Training Score: 0.9750906892382104\n",
      "Testing Score: 0.9584139264990329\n",
      "Accuracy Score: 0.9584139264990329\n",
      "Confusion Matrix: [[885   0]\n",
      " [ 43 106]]\n",
      "Classification Report:               precision    recall  f1-score   support\n",
      "\n",
      "           0       0.95      1.00      0.98       885\n",
      "           1       1.00      0.71      0.83       149\n",
      "\n",
      "    accuracy                           0.96      1034\n",
      "   macro avg       0.98      0.86      0.90      1034\n",
      "weighted avg       0.96      0.96      0.96      1034\n",
      "\n",
      "Cross-Validation : 0.9630482285731405\n"
     ]
    }
   ],
   "source": [
    "Mul_NB = MultinomialNB()\n",
    "Mul_NB.fit(X_train, Y_train)\n",
    "Mul_pred = Mul_NB.predict(X_test)\n",
    "print(f\"Training Score: {Mul_NB.score (X_train, Y_train)}\")\n",
    "print(f\"Testing Score: {Mul_NB.score(X_test,Y_test)}\")\n",
    "print(f\"Accuracy Score: {accuracy_score (Y_test, Mul_pred)}\")\n",
    "print(f\"Confusion Matrix: {confusion_matrix(Y_test, Mul_pred)}\")\n",
    "print(f\"Classification Report: {classification_report(Y_test, Mul_pred)}\")\n",
    "print(f'Cross-Validation : {cross_val_score (Mul_NB, X, Y, cv=5, scoring=\"accuracy\").mean()}')"
   ]
  },
  {
   "cell_type": "markdown",
   "id": "4e745750",
   "metadata": {},
   "source": [
    "# LogisticRegression Model"
   ]
  },
  {
   "cell_type": "code",
   "execution_count": 38,
   "id": "f50355fc",
   "metadata": {},
   "outputs": [
    {
     "name": "stdout",
     "output_type": "stream",
     "text": [
      "Training Score: {Log_Reg.score(X_train, Y_train)}\n",
      "Testing Score: 0.9390715667311412\n",
      "Accuracy Score: 0.9390715667311412\n",
      "Confusion Matrix: [[884   1]\n",
      " [ 62  87]]\n",
      "Classification Report:               precision    recall  f1-score   support\n",
      "\n",
      "           0       0.93      1.00      0.97       885\n",
      "           1       0.99      0.58      0.73       149\n",
      "\n",
      "    accuracy                           0.94      1034\n",
      "   macro avg       0.96      0.79      0.85      1034\n",
      "weighted avg       0.94      0.94      0.93      1034\n",
      "\n",
      "Cross-Validation : 0.9450568380765493\n"
     ]
    }
   ],
   "source": [
    "Log_Reg=LogisticRegression()\n",
    "Log_Reg.fit(X_train, Y_train)\n",
    "Log_pred = Log_Reg.predict(X_test)\n",
    "\n",
    "print(\"Training Score: {Log_Reg.score(X_train, Y_train)}\")\n",
    "print(f\"Testing Score: {Log_Reg.score (X_test,Y_test)}\")\n",
    "\n",
    "print(F'Accuracy Score: {accuracy_score (Y_test, Log_pred)}')\n",
    "print(f'Confusion Matrix: {confusion_matrix(Y_test, Log_pred)}')\n",
    "print(f'Classification Report: {classification_report(Y_test, Log_pred)}')\n",
    "print(f'Cross-Validation : {cross_val_score (Log_Reg, X, Y, cv=5, scoring=\"accuracy\").mean()}')"
   ]
  },
  {
   "cell_type": "markdown",
   "id": "1b35b7b0",
   "metadata": {},
   "source": [
    "# SVM Model"
   ]
  },
  {
   "cell_type": "code",
   "execution_count": null,
   "id": "d0b8e9ce",
   "metadata": {},
   "outputs": [
    {
     "name": "stdout",
     "output_type": "stream",
     "text": [
      "Training Score: 0.9983071342200726\n",
      "Testing Score: 0.9680851063829787\n",
      "Accuracy Score: 0.9680851063829787\n",
      "Confusion Matrix: [[884   1]\n",
      " [ 32 117]]\n",
      "Classification Report:               precision    recall  f1-score   support\n",
      "\n",
      "           0       0.97      1.00      0.98       885\n",
      "           1       0.99      0.79      0.88       149\n",
      "\n",
      "    accuracy                           0.97      1034\n",
      "   macro avg       0.98      0.89      0.93      1034\n",
      "weighted avg       0.97      0.97      0.97      1034\n",
      "\n"
     ]
    }
   ],
   "source": [
    "SVM=SVC()\n",
    "SVM.fit(X_train, Y_train)\n",
    "SVM_pred = SVM.predict(X_test)\n",
    "\n",
    "print(f\"Training Score: {SVM.score(X_train, Y_train)}\")\n",
    "print(f\"Testing Score: {SVM.score (X_test,Y_test)}\")\n",
    "print(f'Accuracy Score: {accuracy_score(Y_test, SVM_pred)}')\n",
    "print(f'Confusion Matrix: {confusion_matrix(Y_test, SVM_pred)}')\n",
    "print(f'Classification Report: {classification_report(Y_test, SVM_pred)}')\n",
    "print(f'Cross-Validation : {cross_val_score(SVM, X, Y, cv=5, scoring=\"accuracy\").mean()}')"
   ]
  },
  {
   "cell_type": "code",
   "execution_count": null,
   "id": "df2c3dcb",
   "metadata": {},
   "outputs": [],
   "source": []
  }
 ],
 "metadata": {
  "kernelspec": {
   "display_name": "Python 3 (ipykernel)",
   "language": "python",
   "name": "python3"
  },
  "language_info": {
   "codemirror_mode": {
    "name": "ipython",
    "version": 3
   },
   "file_extension": ".py",
   "mimetype": "text/x-python",
   "name": "python",
   "nbconvert_exporter": "python",
   "pygments_lexer": "ipython3",
   "version": "3.11.5"
  }
 },
 "nbformat": 4,
 "nbformat_minor": 5
}
